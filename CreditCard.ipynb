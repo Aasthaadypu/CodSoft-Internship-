{
 "cells": [
  {
   "cell_type": "code",
   "execution_count": 3,
   "id": "8a74f757-244d-4bef-8817-914fc4ef8fdf",
   "metadata": {},
   "outputs": [
    {
     "ename": "SyntaxError",
     "evalue": "invalid syntax (513656652.py, line 24)",
     "output_type": "error",
     "traceback": [
      "\u001b[1;36m  Cell \u001b[1;32mIn[3], line 24\u001b[1;36m\u001b[0m\n\u001b[1;33m    str.inline.either(in or func.inline(df))\u001b[0m\n\u001b[1;37m                      ^\u001b[0m\n\u001b[1;31mSyntaxError\u001b[0m\u001b[1;31m:\u001b[0m invalid syntax\n"
     ]
    }
   ],
   "source": [
    "#import some libraries and do this with any of the softwares(python). \n",
    "#Use some credit score functions(deletion and addition), with index values.\n",
    "import numpy as np\n",
    "import pandas as pd\n",
    "import os\n",
    "import matplotlib.pyplot as plt\n",
    "import seaborn as sns\n",
    "import timeit, sys\n",
    "from datetime import date\n",
    "sns.set()\n",
    "%matplotlib inline\n",
    "dataframe = 'df'\n",
    "df(func)\n",
    "\n",
    "\n",
    "today = date.today()\n",
    "   \n",
    "# Converting the date to the string\n",
    "Str = date.isoformat(today)\n",
    "print(\"String Representation\", Str)\n",
    "print(type(Str))\n",
    "\n",
    "class df:\n",
    "   str.inline.either(in or func.inline(df))\n",
    "\n",
    "#Add Path and calculate the credentials\n",
    "df = pd.read_csv(r'//creditcard.csv')\n",
    "df.read(path)\n",
    "print(df.shape)\n",
    "df.head()\n",
    "\n",
    "df.info()\n",
    "\n",
    "df.describe()\n",
    "\n",
    "df.count()\n",
    "\n",
    "class_names = {0:'Fraud', 1:'Not Fraud'}\n",
    "print(df.Class.value_counts().rename(index = class_names))\n",
    "\n",
    "fig = plt.figure(figsize = (15, 13))\n",
    "\n",
    "plt.subplot(4, 7, 1) ; plt.plot(df.V1) ; plt.subplot(4, 7, 15) ; plt.plot(df.V15)\n",
    "plt.subplot(4, 7, 2) ; plt.plot(df.V2) ; plt.subplot(4, 7, 16) ; plt.plot(df.V16)\n",
    "plt.subplot(4, 7, 3) ; plt.plot(df.V3) ; plt.subplot(4, 7, 17) ; plt.plot(df.V17)\n",
    "plt.subplot(4, 7, 4) ; plt.plot(df.V4) ; plt.subplot(4, 7, 18) ; plt.plot(df.V18)\n",
    "plt.subplot(4, 7, 5) ; plt.plot(df.V5) ; plt.subplot(4, 7, 19) ; plt.plot(df.V19)\n",
    "plt.subplot(4, 7, 6) ; plt.plot(df.V6) ; plt.subplot(4, 7, 20) ; plt.plot(df.V20)\n",
    "plt.subplot(4, 7, 7) ; plt.plot(df.V7) ; plt.subplot(4, 7, 21) ; plt.plot(df.V21)\n",
    "plt.subplot(4, 7, 8) ; plt.plot(df.V8) ; plt.subplot(4, 7, 22) ; plt.plot(df.V22)\n",
    "plt.subplot(4, 7, 9) ; plt.plot(df.V9) ; plt.subplot(4, 7, 23) ; plt.plot(df.V23)\n",
    "plt.subplot(4, 7, 10) ; plt.plot(df.V10) ; plt.subplot(4, 7, 24) ; plt.plot(df.V24)\n",
    "plt.subplot(4, 7, 11) ; plt.plot(df.V11) ; plt.subplot(4, 7, 25) ; plt.plot(df.V25)\n",
    "plt.subplot(4, 7, 12) ; plt.plot(df.V12) ; plt.subplot(4, 7, 26) ; plt.plot(df.V26)\n",
    "plt.subplot(4, 7, 13) ; plt.plot(df.V13) ; plt.subplot(4, 7, 27) ; plt.plot(df.V27)\n",
    "plt.subplot(4, 7, 14) ; plt.plot(df.V14) ; plt.subplot(4, 7, 28) ; plt.plot(df.V28)\n",
    "plt.subplot(4, 7, 31) ; plt.plot(df.Amount)\n",
    "plt.show()\n"
   ]
  },
  {
   "cell_type": "code",
   "execution_count": 15,
   "id": "920e41de-4901-41e0-a668-70474433581e",
   "metadata": {},
   "outputs": [
    {
     "ename": "SyntaxError",
     "evalue": "invalid syntax (2201536543.py, line 41)",
     "output_type": "error",
     "traceback": [
      "\u001b[1;36m  Cell \u001b[1;32mIn[15], line 41\u001b[1;36m\u001b[0m\n\u001b[1;33m    import sklearn.models from sklearn tools\u001b[0m\n\u001b[1;37m                          ^\u001b[0m\n\u001b[1;31mSyntaxError\u001b[0m\u001b[1;31m:\u001b[0m invalid syntax\n"
     ]
    }
   ],
   "source": [
    "from sklearn.cross_validation import train_test_split\n",
    "\n",
    "feature_names = df.iloc[:, 1:25].columns\n",
    "target = df.iloc[:1, 25: ].columns\n",
    "print(feature_names)\n",
    "print(target)\n",
    "\n",
    "data_features = credit[feature_names]\n",
    "data_target = credit[target]\n",
    "\n",
    "X_train, X_test, y_train, y_test = train_test_split(data_features, data_target, train_size=0.58, test_size=0.30, random_state=1)\n",
    "print(\"Length of X_train is: {X_train}\".format(X_train = len(X_train)))\n",
    "print(\"Length of X_test is: {X_test}\".format(X_test = len(X_test)))\n",
    "print(\"Length of y_train is: {y_train}\".format(y_train = len(y_train)))\n",
    "print(\"Length of y_test is: {y_test}\".format(y_test = len(y_test)))\n",
    "print(\"Array of y_test is: {y_test}\".format(y_test = arr(y_test)))\n",
    "\n",
    "#import binary linear regression model and train, test and regress the matrices.\n",
    "\n",
    "from sklearn.linear_model import LogisticRegression\n",
    "from sklearn.metrics import confusion_matrix\n",
    "\n",
    "model = LogisticRegression()\n",
    "model.fit(X_train, y_train.values.ravel())\n",
    "\n",
    "pred = model.predict(X_test)\n",
    "\n",
    "class_names = ['Fraud', ' Not Fraud']\n",
    "matrix = confusion_matrix(y_test, pred)\n",
    "# Create pandas dataframe\n",
    "dataframe = pd.DataFrame(matrix, index=class_names, columns=class_names)\n",
    "\n",
    "# Create heatmap and barplots\n",
    "\n",
    "sns.heatmap(dataframe, annot=True, cbar=None, cmap=\"Green\", fmt = 'g')\n",
    "plt.title(\"Confusion Matrix\"), plt.tight_layout()\n",
    "plt.ylabel(\"True Class\"), plt.xlabel(\"Predicted Class\")\n",
    "plt.show()\n",
    "\n",
    "from sklearn.metrics import f1_score, recall_score\n",
    "from sklearn tools import sklearn.models\n",
    "f1_score = round(f1_score(y_test, pred), 2)\n",
    "recall_score = round(recall_score(y_test, pred), 2)\n",
    "print(\"Recall for Logistic Regression Predictive Model 1 : {recall_score}\".format(recall_score = recall_score))\n",
    "print(\"F1 Score for Logistic Regression Predictive Model 1 : {f1_score}\".format(f1_score = f1_score))\n",
    " \n",
    "\n",
    "  \n",
    "\n"
   ]
  },
  {
   "cell_type": "code",
   "execution_count": null,
   "id": "8f5d1d76-cb3c-4b1d-ba4e-31dec1b5f83e",
   "metadata": {},
   "outputs": [],
   "source": []
  }
 ],
 "metadata": {
  "kernelspec": {
   "display_name": "Python 3 (ipykernel)",
   "language": "python",
   "name": "python3"
  },
  "language_info": {
   "codemirror_mode": {
    "name": "ipython",
    "version": 3
   },
   "file_extension": ".py",
   "mimetype": "text/x-python",
   "name": "python",
   "nbconvert_exporter": "python",
   "pygments_lexer": "ipython3",
   "version": "3.11.7"
  }
 },
 "nbformat": 4,
 "nbformat_minor": 5
}
