{
  "metadata": {
    "kernelspec": {
      "language": "python",
      "display_name": "Python 3",
      "name": "python3"
    },
    "language_info": {
      "pygments_lexer": "ipython3",
      "nbconvert_exporter": "python",
      "version": "3.6.4",
      "file_extension": ".py",
      "codemirror_mode": {
        "name": "ipython",
        "version": 3
      },
      "name": "python",
      "mimetype": "text/x-python"
    },
    "kaggle": {
      "accelerator": "none",
      "dataSources": [
        {
          "sourceId": 2346296,
          "sourceType": "datasetVersion",
          "datasetId": 1416444
        }
      ],
      "dockerImageVersionId": 30527,
      "isInternetEnabled": false,
      "language": "python",
      "sourceType": "notebook",
      "isGpuEnabled": false
    },
    "colab": {
      "provenance": []
    }
  },
  "nbformat_minor": 0,
  "nbformat": 4,
  "cells": [
    {
      "source": [
        "\n",
        "# IMPORTANT: RUN THIS CELL IN ORDER TO IMPORT YOUR KAGGLE DATA SOURCES\n",
        "# TO THE CORRECT LOCATION (/kaggle/input) IN YOUR NOTEBOOK,\n",
        "# THEN FEEL FREE TO DELETE THIS CELL.\n",
        "# NOTE: THIS NOTEBOOK ENVIRONMENT DIFFERS FROM KAGGLE'S PYTHON\n",
        "# ENVIRONMENT SO THERE MAY BE MISSING LIBRARIES USED BY YOUR\n",
        "# NOTEBOOK.\n",
        "\n",
        "import os\n",
        "import sys\n",
        "from tempfile import NamedTemporaryFile\n",
        "from urllib.request import urlopen\n",
        "from urllib.parse import unquote, urlparse\n",
        "from urllib.error import HTTPError\n",
        "from zipfile import ZipFile\n",
        "import tarfile\n",
        "import shutil\n",
        "\n",
        "CHUNK_SIZE = 40960\n",
        "DATA_SOURCE_MAPPING = 'imdb-india-movies:https%3A%2F%2Fstorage.googleapis.com%2Fkaggle-data-sets%2F1416444%2F2346296%2Fbundle%2Farchive.zip%3FX-Goog-Algorithm%3DGOOG4-RSA-SHA256%26X-Goog-Credential%3Dgcp-kaggle-com%2540kaggle-161607.iam.gserviceaccount.com%252F20240601%252Fauto%252Fstorage%252Fgoog4_request%26X-Goog-Date%3D20240601T162534Z%26X-Goog-Expires%3D259200%26X-Goog-SignedHeaders%3Dhost%26X-Goog-Signature%3D55db7a48a1035e96b937f09533536ccdb30f71ab9cbfc35adca642eab1f2c88e03a69c3e39671115a003358c9778aff3a3473340d64e8d7e0b3c323ec86b8ca9e588ee173fa5b12b9a166f38d1bff6d30f017513c7c5f5d2f251653a8c86285e65a7544f01d268f2bc2c6be345a273a394af869e9256e020f6a7885e2e4a86ef8861ec3215946643d51ceb300f0cdb01090c577da881de3b05bc59f77932d35bbe428b7ab1050d1bdbab31e91911320f0d714cb4031e659ce2ad594e4ec297a7016974a1aae5ea592eadd32bc0e0439adf5241ce0372da50e0a7b6aaca06573d59c05cf4fbfbc5d2b0d2f7e22ad5a675e6175d2eadedeb920e174bff91e7ad56'\n",
        "\n",
        "KAGGLE_INPUT_PATH='/kaggle/input'\n",
        "KAGGLE_WORKING_PATH='/kaggle/working'\n",
        "KAGGLE_SYMLINK='kaggle'\n",
        "\n",
        "!umount /kaggle/input/ 2> /dev/null\n",
        "shutil.rmtree('/kaggle/input', ignore_errors=True)\n",
        "os.makedirs(KAGGLE_INPUT_PATH, 0o777, exist_ok=True)\n",
        "os.makedirs(KAGGLE_WORKING_PATH, 0o777, exist_ok=True)\n",
        "\n",
        "try:\n",
        "  os.symlink(KAGGLE_INPUT_PATH, os.path.join(\"..\", 'input'), target_is_directory=True)\n",
        "except FileExistsError:\n",
        "  pass\n",
        "try:\n",
        "  os.symlink(KAGGLE_WORKING_PATH, os.path.join(\"..\", 'working'), target_is_directory=True)\n",
        "except FileExistsError:\n",
        "  pass\n",
        "\n",
        "for data_source_mapping in DATA_SOURCE_MAPPING.split(','):\n",
        "    directory, download_url_encoded = data_source_mapping.split(':')\n",
        "    download_url = unquote(download_url_encoded)\n",
        "    filename = urlparse(download_url).path\n",
        "    destination_path = os.path.join(KAGGLE_INPUT_PATH, directory)\n",
        "    try:\n",
        "        with urlopen(download_url) as fileres, NamedTemporaryFile() as tfile:\n",
        "            total_length = fileres.headers['content-length']\n",
        "            print(f'Downloading {directory}, {total_length} bytes compressed')\n",
        "            dl = 0\n",
        "            data = fileres.read(CHUNK_SIZE)\n",
        "            while len(data) > 0:\n",
        "                dl += len(data)\n",
        "                tfile.write(data)\n",
        "                done = int(50 * dl / int(total_length))\n",
        "                sys.stdout.write(f\"\\r[{'=' * done}{' ' * (50-done)}] {dl} bytes downloaded\")\n",
        "                sys.stdout.flush()\n",
        "                data = fileres.read(CHUNK_SIZE)\n",
        "            if filename.endswith('.zip'):\n",
        "              with ZipFile(tfile) as zfile:\n",
        "                zfile.extractall(destination_path)\n",
        "            else:\n",
        "              with tarfile.open(tfile.name) as tarfile:\n",
        "                tarfile.extractall(destination_path)\n",
        "            print(f'\\nDownloaded and uncompressed: {directory}')\n",
        "    except HTTPError as e:\n",
        "        print(f'Failed to load (likely expired) {download_url} to path {destination_path}')\n",
        "        continue\n",
        "    except OSError as e:\n",
        "        print(f'Failed to load {download_url} to path {destination_path}')\n",
        "        continue\n",
        "\n",
        "print('Data source import complete.')\n"
      ],
      "metadata": {
        "id": "Ye6tQgKonvME"
      },
      "cell_type": "code",
      "outputs": [],
      "execution_count": null
    },
    {
      "cell_type": "markdown",
      "source": [
        "<center>**<b><h1 style=\"border:5px solid black; background-color:pink\";>MOVIE RATING PREDICTION</h1></b>**</center>"
      ],
      "metadata": {
        "id": "VLqMlABVnvMG"
      }
    },
    {
      "cell_type": "markdown",
      "source": [
        "<center><img src = \"https://tse1.mm.bing.net/th?id=OIP.bdBq113-RQrq83CnNIYA8wHaDt&pid=Api&P=0&h=180\" style= \"width:1000px;\"></center>"
      ],
      "metadata": {
        "id": "TLyE11KknvMH"
      }
    },
    {
      "cell_type": "markdown",
      "source": [
        "# Import Library"
      ],
      "metadata": {
        "id": "eAGmMesBnvMI"
      }
    },
    {
      "cell_type": "code",
      "source": [
        "import numpy as np\n",
        "import pandas as pd"
      ],
      "metadata": {
        "execution": {
          "iopub.status.busy": "2023-08-28T16:42:53.390865Z",
          "iopub.execute_input": "2023-08-28T16:42:53.391359Z",
          "iopub.status.idle": "2023-08-28T16:42:53.397006Z",
          "shell.execute_reply.started": "2023-08-28T16:42:53.391315Z",
          "shell.execute_reply": "2023-08-28T16:42:53.395423Z"
        },
        "trusted": true,
        "id": "vNs2n1WgnvMI"
      },
      "execution_count": null,
      "outputs": []
    },
    {
      "cell_type": "code",
      "source": [
        "df = pd.read_csv('/kaggle/input/imdb-india-movies/IMDb Movies India.csv', encoding='latin-1')\n"
      ],
      "metadata": {
        "execution": {
          "iopub.status.busy": "2023-08-28T16:42:53.401106Z",
          "iopub.execute_input": "2023-08-28T16:42:53.401629Z",
          "iopub.status.idle": "2023-08-28T16:42:53.474799Z",
          "shell.execute_reply.started": "2023-08-28T16:42:53.401583Z",
          "shell.execute_reply": "2023-08-28T16:42:53.473588Z"
        },
        "trusted": true,
        "id": "ZvIR65HgnvMI"
      },
      "execution_count": null,
      "outputs": []
    },
    {
      "cell_type": "code",
      "source": [
        "df"
      ],
      "metadata": {
        "execution": {
          "iopub.status.busy": "2023-08-28T16:42:57.107972Z",
          "iopub.execute_input": "2023-08-28T16:42:57.109141Z",
          "iopub.status.idle": "2023-08-28T16:42:57.141484Z",
          "shell.execute_reply.started": "2023-08-28T16:42:57.109049Z",
          "shell.execute_reply": "2023-08-28T16:42:57.140323Z"
        },
        "trusted": true,
        "id": "FOPJ-yBCnvMI"
      },
      "execution_count": null,
      "outputs": []
    },
    {
      "cell_type": "code",
      "source": [
        "df.describe()"
      ],
      "metadata": {
        "execution": {
          "iopub.status.busy": "2023-08-28T16:42:57.143931Z",
          "iopub.execute_input": "2023-08-28T16:42:57.146456Z",
          "iopub.status.idle": "2023-08-28T16:42:57.163839Z",
          "shell.execute_reply.started": "2023-08-28T16:42:57.146402Z",
          "shell.execute_reply": "2023-08-28T16:42:57.163035Z"
        },
        "trusted": true,
        "id": "g8gNl-0PnvMJ"
      },
      "execution_count": null,
      "outputs": []
    },
    {
      "cell_type": "code",
      "source": [
        "df.info()"
      ],
      "metadata": {
        "execution": {
          "iopub.status.busy": "2023-08-28T16:42:57.1653Z",
          "iopub.execute_input": "2023-08-28T16:42:57.166539Z",
          "iopub.status.idle": "2023-08-28T16:42:57.237431Z",
          "shell.execute_reply.started": "2023-08-28T16:42:57.166506Z",
          "shell.execute_reply": "2023-08-28T16:42:57.236365Z"
        },
        "trusted": true,
        "id": "pOoMsH7XnvMJ"
      },
      "execution_count": null,
      "outputs": []
    },
    {
      "cell_type": "code",
      "source": [
        "df.dtypes"
      ],
      "metadata": {
        "execution": {
          "iopub.status.busy": "2023-08-28T16:42:57.239568Z",
          "iopub.execute_input": "2023-08-28T16:42:57.240742Z",
          "iopub.status.idle": "2023-08-28T16:42:57.25005Z",
          "shell.execute_reply.started": "2023-08-28T16:42:57.240701Z",
          "shell.execute_reply": "2023-08-28T16:42:57.248701Z"
        },
        "trusted": true,
        "id": "hnGXJvQenvMJ"
      },
      "execution_count": null,
      "outputs": []
    },
    {
      "cell_type": "code",
      "source": [
        "df.isnull().sum()"
      ],
      "metadata": {
        "execution": {
          "iopub.status.busy": "2023-08-28T16:42:57.251458Z",
          "iopub.execute_input": "2023-08-28T16:42:57.251931Z",
          "iopub.status.idle": "2023-08-28T16:42:57.315948Z",
          "shell.execute_reply.started": "2023-08-28T16:42:57.251889Z",
          "shell.execute_reply": "2023-08-28T16:42:57.314693Z"
        },
        "trusted": true,
        "id": "IivnMAo4nvMJ"
      },
      "execution_count": null,
      "outputs": []
    },
    {
      "cell_type": "code",
      "source": [
        "df.shape"
      ],
      "metadata": {
        "execution": {
          "iopub.status.busy": "2023-08-28T16:42:57.318478Z",
          "iopub.execute_input": "2023-08-28T16:42:57.318813Z",
          "iopub.status.idle": "2023-08-28T16:42:57.330194Z",
          "shell.execute_reply.started": "2023-08-28T16:42:57.318786Z",
          "shell.execute_reply": "2023-08-28T16:42:57.329084Z"
        },
        "trusted": true,
        "id": "Df3u5h00nvMJ"
      },
      "execution_count": null,
      "outputs": []
    },
    {
      "cell_type": "code",
      "source": [
        "df.dropna(inplace=True)\n",
        "df.head(5)"
      ],
      "metadata": {
        "execution": {
          "iopub.status.busy": "2023-08-28T16:42:57.331756Z",
          "iopub.execute_input": "2023-08-28T16:42:57.332498Z",
          "iopub.status.idle": "2023-08-28T16:42:57.407097Z",
          "shell.execute_reply.started": "2023-08-28T16:42:57.332451Z",
          "shell.execute_reply": "2023-08-28T16:42:57.405856Z"
        },
        "trusted": true,
        "id": "UbfH4da_nvMK"
      },
      "execution_count": null,
      "outputs": []
    },
    {
      "cell_type": "code",
      "source": [
        "df.isnull().sum()"
      ],
      "metadata": {
        "execution": {
          "iopub.status.busy": "2023-08-28T16:42:57.408949Z",
          "iopub.execute_input": "2023-08-28T16:42:57.40945Z",
          "iopub.status.idle": "2023-08-28T16:42:57.439359Z",
          "shell.execute_reply.started": "2023-08-28T16:42:57.409386Z",
          "shell.execute_reply": "2023-08-28T16:42:57.437795Z"
        },
        "trusted": true,
        "id": "qSs_x82-nvMK"
      },
      "execution_count": null,
      "outputs": []
    },
    {
      "cell_type": "code",
      "source": [
        "df.shape"
      ],
      "metadata": {
        "execution": {
          "iopub.status.busy": "2023-08-28T16:42:57.440967Z",
          "iopub.execute_input": "2023-08-28T16:42:57.44147Z",
          "iopub.status.idle": "2023-08-28T16:42:57.455855Z",
          "shell.execute_reply.started": "2023-08-28T16:42:57.441425Z",
          "shell.execute_reply": "2023-08-28T16:42:57.454614Z"
        },
        "trusted": true,
        "id": "OHpALMk9nvMK"
      },
      "execution_count": null,
      "outputs": []
    },
    {
      "cell_type": "code",
      "source": [
        "df['Year'] = df['Year'].str.extract('(\\d+)')  # Extract numeric part of the string\n",
        "df['Year'] = pd.to_numeric(df['Year'], errors='coerce')  # Convert to numeric"
      ],
      "metadata": {
        "execution": {
          "iopub.status.busy": "2023-08-28T16:42:57.459194Z",
          "iopub.execute_input": "2023-08-28T16:42:57.45963Z",
          "iopub.status.idle": "2023-08-28T16:42:57.4941Z",
          "shell.execute_reply.started": "2023-08-28T16:42:57.459599Z",
          "shell.execute_reply": "2023-08-28T16:42:57.492874Z"
        },
        "trusted": true,
        "id": "CTHIb2bZnvMK"
      },
      "execution_count": null,
      "outputs": []
    },
    {
      "cell_type": "code",
      "source": [
        "df['Duration'] = df['Duration'].str.extract('(\\d+)')\n",
        "df['Duration'] = pd.to_numeric(df['Duration'], errors='coerce')"
      ],
      "metadata": {
        "execution": {
          "iopub.status.busy": "2023-08-28T16:42:57.495581Z",
          "iopub.execute_input": "2023-08-28T16:42:57.495951Z",
          "iopub.status.idle": "2023-08-28T16:42:57.527215Z",
          "shell.execute_reply.started": "2023-08-28T16:42:57.49592Z",
          "shell.execute_reply": "2023-08-28T16:42:57.526094Z"
        },
        "trusted": true,
        "id": "9_kUFBCDnvMK"
      },
      "execution_count": null,
      "outputs": []
    },
    {
      "cell_type": "code",
      "source": [
        "df[\"Year\"].head()"
      ],
      "metadata": {
        "execution": {
          "iopub.status.busy": "2023-08-28T16:42:57.528703Z",
          "iopub.execute_input": "2023-08-28T16:42:57.529043Z",
          "iopub.status.idle": "2023-08-28T16:42:57.538862Z",
          "shell.execute_reply.started": "2023-08-28T16:42:57.529015Z",
          "shell.execute_reply": "2023-08-28T16:42:57.537727Z"
        },
        "trusted": true,
        "id": "rGvJk7nSnvMK"
      },
      "execution_count": null,
      "outputs": []
    },
    {
      "cell_type": "code",
      "source": [
        "genre=df['Genre']\n",
        "genre.head(5)"
      ],
      "metadata": {
        "execution": {
          "iopub.status.busy": "2023-08-28T16:42:57.540315Z",
          "iopub.execute_input": "2023-08-28T16:42:57.540627Z",
          "iopub.status.idle": "2023-08-28T16:42:57.554107Z",
          "shell.execute_reply.started": "2023-08-28T16:42:57.540599Z",
          "shell.execute_reply": "2023-08-28T16:42:57.552807Z"
        },
        "trusted": true,
        "id": "vLpapGNXnvMK"
      },
      "execution_count": null,
      "outputs": []
    },
    {
      "cell_type": "code",
      "source": [
        "genres=df['Genre'].str.split(',',expand=True)\n",
        "genres.head(5)"
      ],
      "metadata": {
        "execution": {
          "iopub.status.busy": "2023-08-28T16:42:57.557659Z",
          "iopub.execute_input": "2023-08-28T16:42:57.557986Z",
          "iopub.status.idle": "2023-08-28T16:42:57.586336Z",
          "shell.execute_reply.started": "2023-08-28T16:42:57.557958Z",
          "shell.execute_reply": "2023-08-28T16:42:57.585194Z"
        },
        "trusted": true,
        "id": "m9quck_hnvMK"
      },
      "execution_count": null,
      "outputs": []
    },
    {
      "cell_type": "code",
      "source": [
        "genre_counts = {}\n",
        "for genre in genres.values.flatten():\n",
        "    if genre is not None:\n",
        "        if genre in genre_counts:\n",
        "            genre_counts[genre] += 1\n",
        "        else:\n",
        "            genre_counts[genre] = 1\n",
        "\n",
        "genereCounts = {genre: count for genre, count in sorted(genre_counts.items())}\n",
        "for genre, count in genereCounts.items():\n",
        "    print(f\"{genre}: {count}\")"
      ],
      "metadata": {
        "execution": {
          "iopub.status.busy": "2023-08-28T16:42:57.58786Z",
          "iopub.execute_input": "2023-08-28T16:42:57.588324Z",
          "iopub.status.idle": "2023-08-28T16:42:57.606718Z",
          "shell.execute_reply.started": "2023-08-28T16:42:57.588281Z",
          "shell.execute_reply": "2023-08-28T16:42:57.60553Z"
        },
        "trusted": true,
        "id": "oQQUb7l5nvMK"
      },
      "execution_count": null,
      "outputs": []
    },
    {
      "cell_type": "code",
      "source": [
        "genresPie = df['Genre'].value_counts()\n",
        "genresPie.head(5)"
      ],
      "metadata": {
        "execution": {
          "iopub.status.busy": "2023-08-28T16:42:57.607873Z",
          "iopub.execute_input": "2023-08-28T16:42:57.608242Z",
          "iopub.status.idle": "2023-08-28T16:42:57.621384Z",
          "shell.execute_reply.started": "2023-08-28T16:42:57.608207Z",
          "shell.execute_reply": "2023-08-28T16:42:57.620314Z"
        },
        "trusted": true,
        "id": "QUktafUMnvML"
      },
      "execution_count": null,
      "outputs": []
    },
    {
      "cell_type": "code",
      "source": [
        "genrePie = pd.DataFrame(list(genresPie.items()))\n",
        "genrePie = genrePie.rename(columns={0: 'Genre', 1: 'Count'})\n",
        "genrePie.head(5)"
      ],
      "metadata": {
        "execution": {
          "iopub.status.busy": "2023-08-28T16:42:57.622489Z",
          "iopub.execute_input": "2023-08-28T16:42:57.622811Z",
          "iopub.status.idle": "2023-08-28T16:42:57.646016Z",
          "shell.execute_reply.started": "2023-08-28T16:42:57.622783Z",
          "shell.execute_reply": "2023-08-28T16:42:57.644585Z"
        },
        "trusted": true,
        "id": "aXr04swSnvML"
      },
      "execution_count": null,
      "outputs": []
    },
    {
      "cell_type": "code",
      "source": [
        "df['Votes'] = df['Votes'].str.replace(',', '').astype(int)\n",
        "df[\"Votes\"].head(5)"
      ],
      "metadata": {
        "execution": {
          "iopub.status.busy": "2023-08-28T16:42:57.647368Z",
          "iopub.execute_input": "2023-08-28T16:42:57.647787Z",
          "iopub.status.idle": "2023-08-28T16:42:57.671391Z",
          "shell.execute_reply.started": "2023-08-28T16:42:57.647757Z",
          "shell.execute_reply": "2023-08-28T16:42:57.669959Z"
        },
        "trusted": true,
        "id": "ZPnW4hCBnvML"
      },
      "execution_count": null,
      "outputs": []
    },
    {
      "cell_type": "code",
      "source": [
        "df[\"Director\"].nunique()"
      ],
      "metadata": {
        "execution": {
          "iopub.status.busy": "2023-08-28T16:42:57.675574Z",
          "iopub.execute_input": "2023-08-28T16:42:57.675968Z",
          "iopub.status.idle": "2023-08-28T16:42:57.688866Z",
          "shell.execute_reply.started": "2023-08-28T16:42:57.675934Z",
          "shell.execute_reply": "2023-08-28T16:42:57.687773Z"
        },
        "trusted": true,
        "id": "oQlvc09DnvML"
      },
      "execution_count": null,
      "outputs": []
    },
    {
      "cell_type": "code",
      "source": [
        "directors = df[\"Director\"].value_counts()\n",
        "directors.head(5)"
      ],
      "metadata": {
        "execution": {
          "iopub.status.busy": "2023-08-28T16:42:57.690717Z",
          "iopub.execute_input": "2023-08-28T16:42:57.69121Z",
          "iopub.status.idle": "2023-08-28T16:42:57.705401Z",
          "shell.execute_reply.started": "2023-08-28T16:42:57.691163Z",
          "shell.execute_reply": "2023-08-28T16:42:57.703966Z"
        },
        "trusted": true,
        "id": "3vTIfeOqnvML"
      },
      "execution_count": null,
      "outputs": []
    },
    {
      "cell_type": "code",
      "source": [
        "actors = pd.concat([df['Actor 1'], df['Actor 2'], df['Actor 3']]).dropna().value_counts()\n",
        "actors.head(5)\n"
      ],
      "metadata": {
        "execution": {
          "iopub.status.busy": "2023-08-28T16:42:57.711169Z",
          "iopub.execute_input": "2023-08-28T16:42:57.711526Z",
          "iopub.status.idle": "2023-08-28T16:42:57.732831Z",
          "shell.execute_reply.started": "2023-08-28T16:42:57.711497Z",
          "shell.execute_reply": "2023-08-28T16:42:57.731616Z"
        },
        "trusted": true,
        "id": "CpbE91LMnvML"
      },
      "execution_count": null,
      "outputs": []
    },
    {
      "cell_type": "markdown",
      "source": [
        "# THE DATA VISUALIZATION"
      ],
      "metadata": {
        "id": "uKj2xEhMnvML"
      }
    },
    {
      "cell_type": "code",
      "source": [
        "import seaborn as sb\n",
        "import plotly.express as px\n",
        "import matplotlib.pyplot as mpl\n",
        "from wordcloud import WordCloud"
      ],
      "metadata": {
        "execution": {
          "iopub.status.busy": "2023-08-28T16:42:57.737395Z",
          "iopub.execute_input": "2023-08-28T16:42:57.737771Z",
          "iopub.status.idle": "2023-08-28T16:42:57.742919Z",
          "shell.execute_reply.started": "2023-08-28T16:42:57.737738Z",
          "shell.execute_reply": "2023-08-28T16:42:57.741829Z"
        },
        "trusted": true,
        "id": "-uUZcQFxnvML"
      },
      "execution_count": null,
      "outputs": []
    },
    {
      "cell_type": "code",
      "source": [
        "sb.set(style = \"ticks\", font = \"Times New Roman\")"
      ],
      "metadata": {
        "execution": {
          "iopub.status.busy": "2023-08-28T16:42:57.745071Z",
          "iopub.execute_input": "2023-08-28T16:42:57.74542Z",
          "iopub.status.idle": "2023-08-28T16:42:57.756707Z",
          "shell.execute_reply.started": "2023-08-28T16:42:57.745391Z",
          "shell.execute_reply": "2023-08-28T16:42:57.755682Z"
        },
        "trusted": true,
        "id": "n8jS_8cPnvML"
      },
      "execution_count": null,
      "outputs": []
    },
    {
      "cell_type": "code",
      "source": [
        "ax = sb.lineplot(data=df['Year'].value_counts().sort_index())\n",
        "tick_positions = range(min(df['Year']), max(df['Year']) + 1, 5)\n",
        "ax.set_title(\"Annual Movie Release Counts Over Time\")\n",
        "ax.set_xticks(tick_positions)\n",
        "ax.set_xticklabels(tick_positions, rotation = 90)\n",
        "ax.set_xlabel(\"Years\")\n",
        "ax.set_ylabel(\"Count\")\n",
        "mpl.show()"
      ],
      "metadata": {
        "execution": {
          "iopub.status.busy": "2023-08-28T16:42:57.758194Z",
          "iopub.execute_input": "2023-08-28T16:42:57.758519Z",
          "iopub.status.idle": "2023-08-28T16:42:58.091995Z",
          "shell.execute_reply.started": "2023-08-28T16:42:57.758491Z",
          "shell.execute_reply": "2023-08-28T16:42:58.090834Z"
        },
        "trusted": true,
        "id": "fSxWkCmLnvML"
      },
      "execution_count": null,
      "outputs": []
    },
    {
      "cell_type": "code",
      "source": [
        "ax = sb.boxplot(data=df, y='Year')\n",
        "ax.set_ylabel('Year')\n",
        "ax.set_title('Box Plot of Year')\n",
        "mpl.show()"
      ],
      "metadata": {
        "execution": {
          "iopub.status.busy": "2023-08-28T16:42:58.094031Z",
          "iopub.execute_input": "2023-08-28T16:42:58.094863Z",
          "iopub.status.idle": "2023-08-28T16:42:58.272507Z",
          "shell.execute_reply.started": "2023-08-28T16:42:58.094819Z",
          "shell.execute_reply": "2023-08-28T16:42:58.27107Z"
        },
        "trusted": true,
        "id": "TQV8h33PnvMM"
      },
      "execution_count": null,
      "outputs": []
    },
    {
      "cell_type": "code",
      "source": [
        "ax = sb.lineplot(data=df.groupby('Year')['Duration'].mean().reset_index(), x='Year', y='Duration')\n",
        "tick_positions = range(min(df['Year']), max(df['Year']) + 1, 5)\n",
        "ax.set_title(\"Average Movie Duration Trends Over the Years\")\n",
        "ax.set_xticks(tick_positions)\n",
        "ax.set_xticklabels(tick_positions, rotation = 90)\n",
        "ax.set_xlabel(\"Years\")\n",
        "ax.set_ylabel('Average Duration(in minutes)')\n",
        "mpl.show()"
      ],
      "metadata": {
        "execution": {
          "iopub.status.busy": "2023-08-28T16:42:58.274649Z",
          "iopub.execute_input": "2023-08-28T16:42:58.275176Z",
          "iopub.status.idle": "2023-08-28T16:42:58.617344Z",
          "shell.execute_reply.started": "2023-08-28T16:42:58.275111Z",
          "shell.execute_reply": "2023-08-28T16:42:58.616154Z"
        },
        "trusted": true,
        "id": "jN6kPkVCnvMM"
      },
      "execution_count": null,
      "outputs": []
    },
    {
      "cell_type": "code",
      "source": [
        "ax = sb.boxplot(data=df, y='Duration')\n",
        "ax.set_title(\"Box Plot of Average Movie Durations\")\n",
        "ax.set_ylabel('Average Duration(in minutes)')\n",
        "mpl.show()"
      ],
      "metadata": {
        "execution": {
          "iopub.status.busy": "2023-08-28T16:42:58.618947Z",
          "iopub.execute_input": "2023-08-28T16:42:58.620156Z",
          "iopub.status.idle": "2023-08-28T16:42:58.808744Z",
          "shell.execute_reply.started": "2023-08-28T16:42:58.620087Z",
          "shell.execute_reply": "2023-08-28T16:42:58.807581Z"
        },
        "trusted": true,
        "id": "YLKrVV7knvMM"
      },
      "execution_count": null,
      "outputs": []
    },
    {
      "cell_type": "code",
      "source": [
        "Q1 = df['Duration'].quantile(0.25)\n",
        "Q3 = df['Duration'].quantile(0.75)\n",
        "IQR = Q3 - Q1\n",
        "lower_bound = Q1 - 1.5 * IQR\n",
        "upper_bound = Q3 + 1.5 * IQR\n",
        "df = df[(df['Duration'] >= lower_bound) & (df['Duration'] <= upper_bound)]\n",
        "df.head(5)"
      ],
      "metadata": {
        "execution": {
          "iopub.status.busy": "2023-08-28T16:42:58.810401Z",
          "iopub.execute_input": "2023-08-28T16:42:58.81106Z",
          "iopub.status.idle": "2023-08-28T16:42:58.83445Z",
          "shell.execute_reply.started": "2023-08-28T16:42:58.811004Z",
          "shell.execute_reply": "2023-08-28T16:42:58.833621Z"
        },
        "trusted": true,
        "id": "wcyPAXk2nvMM"
      },
      "execution_count": null,
      "outputs": []
    },
    {
      "cell_type": "code",
      "source": [
        "genre_counts = df['Genre'].str.split(', ', expand=True).stack().value_counts()\n",
        "\n",
        "wordcloud = WordCloud(width=800, height=400, background_color='white').generate_from_frequencies(genre_counts)\n",
        "\n",
        "mpl.figure(figsize=(10, 6))\n",
        "mpl.imshow(wordcloud, interpolation='bilinear')\n",
        "mpl.axis('off')\n",
        "mpl.title('Genre Word Cloud')\n",
        "mpl.show()"
      ],
      "metadata": {
        "execution": {
          "iopub.status.busy": "2023-08-28T16:42:58.835536Z",
          "iopub.execute_input": "2023-08-28T16:42:58.836633Z",
          "iopub.status.idle": "2023-08-28T16:42:59.279145Z",
          "shell.execute_reply.started": "2023-08-28T16:42:58.8366Z",
          "shell.execute_reply": "2023-08-28T16:42:59.277774Z"
        },
        "trusted": true,
        "id": "HGqFpUlMnvMM"
      },
      "execution_count": null,
      "outputs": []
    },
    {
      "cell_type": "code",
      "source": [
        "genreLabels = sorted(genereCounts.keys())\n",
        "genreCounts = sorted(genereCounts.values())\n",
        "ax = sb.barplot(x = genreLabels, y = genreCounts)\n",
        "ax.set_xticklabels(labels=genreLabels, rotation = 90)\n",
        "mpl.show()"
      ],
      "metadata": {
        "execution": {
          "iopub.status.busy": "2023-08-28T16:42:59.280792Z",
          "iopub.execute_input": "2023-08-28T16:42:59.28119Z",
          "iopub.status.idle": "2023-08-28T16:42:59.84957Z",
          "shell.execute_reply.started": "2023-08-28T16:42:59.281156Z",
          "shell.execute_reply": "2023-08-28T16:42:59.848419Z"
        },
        "trusted": true,
        "id": "aiYW5KAanvMM"
      },
      "execution_count": null,
      "outputs": []
    },
    {
      "cell_type": "code",
      "source": [
        "genrePie.loc[genrePie['Count'] < 50, 'Genre'] = 'Other'\n",
        "ax = px.pie(genrePie, values='Count', names='Genre', title='More than one Genre of movies in Indian Cinema')\n",
        "ax.show()"
      ],
      "metadata": {
        "execution": {
          "iopub.status.busy": "2023-08-28T16:42:59.855994Z",
          "iopub.execute_input": "2023-08-28T16:42:59.856394Z",
          "iopub.status.idle": "2023-08-28T16:42:59.923188Z",
          "shell.execute_reply.started": "2023-08-28T16:42:59.856361Z",
          "shell.execute_reply": "2023-08-28T16:42:59.921963Z"
        },
        "trusted": true,
        "id": "7tprwbXXnvMM"
      },
      "execution_count": null,
      "outputs": []
    },
    {
      "cell_type": "code",
      "source": [
        "ax = sb.histplot(data = df, x = \"Rating\", bins = 20, kde = True)\n",
        "ax.set_xlabel('Rating')\n",
        "ax.set_ylabel('Frequency')\n",
        "ax.set_title('Distribution of Movie Ratings')\n",
        "mpl.show()"
      ],
      "metadata": {
        "execution": {
          "iopub.status.busy": "2023-08-28T16:42:59.925293Z",
          "iopub.execute_input": "2023-08-28T16:42:59.925753Z",
          "iopub.status.idle": "2023-08-28T16:43:00.261396Z",
          "shell.execute_reply.started": "2023-08-28T16:42:59.92571Z",
          "shell.execute_reply": "2023-08-28T16:43:00.260042Z"
        },
        "trusted": true,
        "id": "ftYpPNkenvMM"
      },
      "execution_count": null,
      "outputs": []
    },
    {
      "cell_type": "code",
      "source": [
        "ax = sb.boxplot(data=df, y='Rating')\n",
        "ax.set_ylabel('Rating')\n",
        "ax.set_title('Box Plot of Movie Ratings')\n",
        "mpl.show()"
      ],
      "metadata": {
        "execution": {
          "iopub.status.busy": "2023-08-28T16:43:00.263587Z",
          "iopub.execute_input": "2023-08-28T16:43:00.264082Z",
          "iopub.status.idle": "2023-08-28T16:43:00.458451Z",
          "shell.execute_reply.started": "2023-08-28T16:43:00.264033Z",
          "shell.execute_reply": "2023-08-28T16:43:00.457176Z"
        },
        "trusted": true,
        "id": "hIrg1DxEnvMQ"
      },
      "execution_count": null,
      "outputs": []
    },
    {
      "cell_type": "code",
      "source": [
        "Q1 = df['Rating'].quantile(0.25)\n",
        "Q3 = df['Rating'].quantile(0.75)\n",
        "IQR = Q3 - Q1\n",
        "lower_bound = Q1 - 1.5 * IQR\n",
        "upper_bound = Q3 + 1.5 * IQR\n",
        "df = df[(df['Rating'] >= lower_bound) & (df['Rating'] <= upper_bound)]\n",
        "df.head(5)"
      ],
      "metadata": {
        "execution": {
          "iopub.status.busy": "2023-08-28T16:43:00.460222Z",
          "iopub.execute_input": "2023-08-28T16:43:00.460595Z",
          "iopub.status.idle": "2023-08-28T16:43:00.485463Z",
          "shell.execute_reply.started": "2023-08-28T16:43:00.460547Z",
          "shell.execute_reply": "2023-08-28T16:43:00.484211Z"
        },
        "trusted": true,
        "id": "etAMQl29nvMQ"
      },
      "execution_count": null,
      "outputs": []
    },
    {
      "cell_type": "code",
      "source": [
        "rating_votes = df.groupby('Rating')['Votes'].sum().reset_index()\n",
        "mpl.figure(figsize=(10, 6))\n",
        "ax_line_seaborn = sb.lineplot(data=rating_votes, x='Rating', y='Votes', marker='o')\n",
        "ax_line_seaborn.set_xlabel('Rating')\n",
        "ax_line_seaborn.set_ylabel('Total Votes')\n",
        "ax_line_seaborn.set_title('Total Votes per Rating')\n",
        "mpl.show()"
      ],
      "metadata": {
        "execution": {
          "iopub.status.busy": "2023-08-28T16:43:00.486919Z",
          "iopub.execute_input": "2023-08-28T16:43:00.487313Z",
          "iopub.status.idle": "2023-08-28T16:43:00.835911Z",
          "shell.execute_reply.started": "2023-08-28T16:43:00.487278Z",
          "shell.execute_reply": "2023-08-28T16:43:00.834539Z"
        },
        "trusted": true,
        "id": "ktGc3HW8nvMQ"
      },
      "execution_count": null,
      "outputs": []
    },
    {
      "cell_type": "code",
      "source": [
        "mpl.figure(figsize=(10, 6))\n",
        "ax = sb.barplot(x=directors.head(20).index, y=directors.head(20).values, palette='viridis')\n",
        "ax.set_xlabel('Directors')\n",
        "ax.set_ylabel('Frequency of Movies')\n",
        "ax.set_title('Top 20 Directors by Frequency of Movies')\n",
        "ax.set_xticklabels(ax.get_xticklabels(), rotation=90)\n",
        "mpl.show()"
      ],
      "metadata": {
        "execution": {
          "iopub.status.busy": "2023-08-28T16:43:00.837373Z",
          "iopub.execute_input": "2023-08-28T16:43:00.837703Z",
          "iopub.status.idle": "2023-08-28T16:43:01.291269Z",
          "shell.execute_reply.started": "2023-08-28T16:43:00.837675Z",
          "shell.execute_reply": "2023-08-28T16:43:01.290183Z"
        },
        "trusted": true,
        "id": "VTTxik9knvMQ"
      },
      "execution_count": null,
      "outputs": []
    },
    {
      "cell_type": "code",
      "source": [
        "mpl.figure(figsize=(10, 6))\n",
        "ax = sb.barplot(x=actors.head(20).index, y=actors.head(20).values, palette='viridis')\n",
        "ax.set_xlabel('Actors')\n",
        "ax.set_ylabel('Total Number of Movies')\n",
        "ax.set_title('Top 20 Actors with Total Number of Movies')\n",
        "ax.set_xticklabels(ax.get_xticklabels(), rotation=90)\n",
        "mpl.show()"
      ],
      "metadata": {
        "execution": {
          "iopub.status.busy": "2023-08-28T16:43:01.292844Z",
          "iopub.execute_input": "2023-08-28T16:43:01.293209Z",
          "iopub.status.idle": "2023-08-28T16:43:01.751269Z",
          "shell.execute_reply.started": "2023-08-28T16:43:01.293165Z",
          "shell.execute_reply": "2023-08-28T16:43:01.749982Z"
        },
        "trusted": true,
        "id": "g_NJRlvonvMQ"
      },
      "execution_count": null,
      "outputs": []
    },
    {
      "cell_type": "code",
      "source": [
        "df[\"Actor\"] = df['Actor 1'] + ', ' + df['Actor 2'] + ', ' + df['Actor 3']\n",
        "df[\"Directors\"] = df['Director'].astype('category').cat.codes\n",
        "df[\"Genres\"] = df['Genre'].astype('category').cat.codes\n",
        "df[\"Actors\"] = df['Actor'].astype('category').cat.codes\n",
        "df.head(5)"
      ],
      "metadata": {
        "execution": {
          "iopub.status.busy": "2023-08-28T16:43:01.753504Z",
          "iopub.execute_input": "2023-08-28T16:43:01.754003Z",
          "iopub.status.idle": "2023-08-28T16:43:01.801919Z",
          "shell.execute_reply.started": "2023-08-28T16:43:01.753958Z",
          "shell.execute_reply": "2023-08-28T16:43:01.800715Z"
        },
        "trusted": true,
        "id": "oZkZw18InvMQ"
      },
      "execution_count": null,
      "outputs": []
    },
    {
      "cell_type": "code",
      "source": [
        "ax = sb.boxplot(data=df, y='Genres')\n",
        "ax.set_ylabel('Genres')\n",
        "ax.set_title('Box Plot of Genres')\n",
        "mpl.show()"
      ],
      "metadata": {
        "execution": {
          "iopub.status.busy": "2023-08-28T16:43:01.803621Z",
          "iopub.execute_input": "2023-08-28T16:43:01.804354Z",
          "iopub.status.idle": "2023-08-28T16:43:01.998628Z",
          "shell.execute_reply.started": "2023-08-28T16:43:01.804311Z",
          "shell.execute_reply": "2023-08-28T16:43:01.997408Z"
        },
        "trusted": true,
        "id": "WnKhqhgmnvMQ"
      },
      "execution_count": null,
      "outputs": []
    },
    {
      "cell_type": "code",
      "source": [
        "Q1 = df['Genres'].quantile(0.25)\n",
        "Q3 = df['Genres'].quantile(0.75)\n",
        "IQR = Q3 - Q1\n",
        "lower_bound = Q1 - 1.5 * IQR\n",
        "upper_bound = Q3 + 1.5 * IQR\n",
        "df = df[(df['Genres'] >= lower_bound) & (df['Genres'] <= upper_bound)]\n",
        "df.head(5)"
      ],
      "metadata": {
        "execution": {
          "iopub.status.busy": "2023-08-28T16:43:01.999843Z",
          "iopub.execute_input": "2023-08-28T16:43:02.000452Z",
          "iopub.status.idle": "2023-08-28T16:43:02.029162Z",
          "shell.execute_reply.started": "2023-08-28T16:43:02.000417Z",
          "shell.execute_reply": "2023-08-28T16:43:02.027982Z"
        },
        "trusted": true,
        "id": "XVTb1MSEnvMR"
      },
      "execution_count": null,
      "outputs": []
    },
    {
      "cell_type": "code",
      "source": [
        "ax = sb.boxplot(data=df, y='Directors')\n",
        "ax.set_ylabel('Directors')\n",
        "ax.set_title('Box Plot of Directors')\n",
        "mpl.show()"
      ],
      "metadata": {
        "execution": {
          "iopub.status.busy": "2023-08-28T16:43:02.030725Z",
          "iopub.execute_input": "2023-08-28T16:43:02.031046Z",
          "iopub.status.idle": "2023-08-28T16:43:02.204141Z",
          "shell.execute_reply.started": "2023-08-28T16:43:02.031018Z",
          "shell.execute_reply": "2023-08-28T16:43:02.202909Z"
        },
        "trusted": true,
        "id": "tPLfqprPnvMR"
      },
      "execution_count": null,
      "outputs": []
    },
    {
      "cell_type": "code",
      "source": [
        "Q1 = df['Directors'].quantile(0.25)\n",
        "Q3 = df['Directors'].quantile(0.75)\n",
        "IQR = Q3 - Q1\n",
        "lower_bound = Q1 - 1.5 * IQR\n",
        "upper_bound = Q3 + 1.5 * IQR\n",
        "df = df[(df['Directors'] >= lower_bound) & (df['Directors'] <= upper_bound)]\n",
        "df.head(5)"
      ],
      "metadata": {
        "execution": {
          "iopub.status.busy": "2023-08-28T16:43:02.20574Z",
          "iopub.execute_input": "2023-08-28T16:43:02.206216Z",
          "iopub.status.idle": "2023-08-28T16:43:02.233565Z",
          "shell.execute_reply.started": "2023-08-28T16:43:02.20617Z",
          "shell.execute_reply": "2023-08-28T16:43:02.232327Z"
        },
        "trusted": true,
        "id": "Y3pyL9f5nvMR"
      },
      "execution_count": null,
      "outputs": []
    },
    {
      "cell_type": "code",
      "source": [
        "ax = sb.boxplot(data=df, y='Actors')\n",
        "ax.set_ylabel('Actors')\n",
        "ax.set_title('Box Plot of Actors')\n",
        "mpl.show()"
      ],
      "metadata": {
        "execution": {
          "iopub.status.busy": "2023-08-28T16:43:02.235345Z",
          "iopub.execute_input": "2023-08-28T16:43:02.235822Z",
          "iopub.status.idle": "2023-08-28T16:43:02.411268Z",
          "shell.execute_reply.started": "2023-08-28T16:43:02.235778Z",
          "shell.execute_reply": "2023-08-28T16:43:02.410052Z"
        },
        "trusted": true,
        "id": "Q31wtoI1nvMR"
      },
      "execution_count": null,
      "outputs": []
    },
    {
      "cell_type": "code",
      "source": [
        "Q1 = df['Actors'].quantile(0.25)\n",
        "Q3 = df['Actors'].quantile(0.75)\n",
        "IQR = Q3 - Q1\n",
        "lower_bound = Q1 - 1.5 * IQR\n",
        "upper_bound = Q3 + 1.5 * IQR\n",
        "df = df[(df['Actors'] >= lower_bound) & (df['Actors'] <= upper_bound)]\n",
        "df.head(5)"
      ],
      "metadata": {
        "execution": {
          "iopub.status.busy": "2023-08-28T16:43:02.41299Z",
          "iopub.execute_input": "2023-08-28T16:43:02.413448Z",
          "iopub.status.idle": "2023-08-28T16:43:02.442575Z",
          "shell.execute_reply.started": "2023-08-28T16:43:02.413415Z",
          "shell.execute_reply": "2023-08-28T16:43:02.441348Z"
        },
        "trusted": true,
        "id": "xF_U0HJfnvMR"
      },
      "execution_count": null,
      "outputs": []
    },
    {
      "cell_type": "markdown",
      "source": [
        "# SPLITTING THE DATA"
      ],
      "metadata": {
        "id": "LiR00qCUnvMR"
      }
    },
    {
      "cell_type": "code",
      "source": [
        "from sklearn.model_selection import train_test_split"
      ],
      "metadata": {
        "execution": {
          "iopub.status.busy": "2023-08-28T16:43:02.446365Z",
          "iopub.execute_input": "2023-08-28T16:43:02.446719Z",
          "iopub.status.idle": "2023-08-28T16:43:02.454704Z",
          "shell.execute_reply.started": "2023-08-28T16:43:02.44669Z",
          "shell.execute_reply": "2023-08-28T16:43:02.453616Z"
        },
        "trusted": true,
        "id": "o_iqbFmEnvMS"
      },
      "execution_count": null,
      "outputs": []
    },
    {
      "cell_type": "code",
      "source": [
        "Input = df.drop(['Name', 'Genre', 'Rating', 'Director', 'Actor 1', 'Actor 2', 'Actor 3', 'Actor'], axis=1)\n",
        "Output = df['Rating']"
      ],
      "metadata": {
        "execution": {
          "iopub.status.busy": "2023-08-28T16:43:02.456197Z",
          "iopub.execute_input": "2023-08-28T16:43:02.456934Z",
          "iopub.status.idle": "2023-08-28T16:43:02.46733Z",
          "shell.execute_reply.started": "2023-08-28T16:43:02.4569Z",
          "shell.execute_reply": "2023-08-28T16:43:02.465811Z"
        },
        "trusted": true,
        "id": "ey6Eka-8nvMS"
      },
      "execution_count": null,
      "outputs": []
    },
    {
      "cell_type": "code",
      "source": [
        "Input.head(5)"
      ],
      "metadata": {
        "execution": {
          "iopub.status.busy": "2023-08-28T16:43:02.469047Z",
          "iopub.execute_input": "2023-08-28T16:43:02.469449Z",
          "iopub.status.idle": "2023-08-28T16:43:02.488495Z",
          "shell.execute_reply.started": "2023-08-28T16:43:02.469416Z",
          "shell.execute_reply": "2023-08-28T16:43:02.487386Z"
        },
        "trusted": true,
        "id": "KZnUg5s9nvMS"
      },
      "execution_count": null,
      "outputs": []
    },
    {
      "cell_type": "code",
      "source": [
        "Output.head(5)"
      ],
      "metadata": {
        "execution": {
          "iopub.status.busy": "2023-08-28T16:43:02.489942Z",
          "iopub.execute_input": "2023-08-28T16:43:02.490771Z",
          "iopub.status.idle": "2023-08-28T16:43:02.507196Z",
          "shell.execute_reply.started": "2023-08-28T16:43:02.490735Z",
          "shell.execute_reply": "2023-08-28T16:43:02.506067Z"
        },
        "trusted": true,
        "id": "7JnJO0e8nvMS"
      },
      "execution_count": null,
      "outputs": []
    },
    {
      "cell_type": "code",
      "source": [
        "x_train, x_test, y_train, y_test = train_test_split(Input, Output, test_size = 0.2, random_state = 1)"
      ],
      "metadata": {
        "execution": {
          "iopub.status.busy": "2023-08-28T16:43:02.508651Z",
          "iopub.execute_input": "2023-08-28T16:43:02.508987Z",
          "iopub.status.idle": "2023-08-28T16:43:02.519925Z",
          "shell.execute_reply.started": "2023-08-28T16:43:02.508957Z",
          "shell.execute_reply": "2023-08-28T16:43:02.51868Z"
        },
        "trusted": true,
        "id": "Gjy8jI-HnvMT"
      },
      "execution_count": null,
      "outputs": []
    },
    {
      "cell_type": "markdown",
      "source": [
        "# THE MODEL"
      ],
      "metadata": {
        "id": "wGtte4yqnvMT"
      }
    },
    {
      "cell_type": "code",
      "source": [
        "from sklearn.linear_model import LinearRegression\n",
        "from sklearn.metrics import mean_squared_error, r2_score as score\n",
        "from sklearn.ensemble import RandomForestRegressor, GradientBoostingRegressor\n",
        "from sklearn.tree import DecisionTreeRegressor\n",
        "from xgboost import XGBRegressor\n",
        "from lightgbm import LGBMRegressor\n",
        "from catboost import CatBoostRegressor\n",
        "from sklearn.neighbors import KNeighborsRegressor\n",
        "from sklearn.svm import SVR"
      ],
      "metadata": {
        "execution": {
          "iopub.status.busy": "2023-08-28T16:43:02.521474Z",
          "iopub.execute_input": "2023-08-28T16:43:02.521822Z",
          "iopub.status.idle": "2023-08-28T16:43:02.533639Z",
          "shell.execute_reply.started": "2023-08-28T16:43:02.521793Z",
          "shell.execute_reply": "2023-08-28T16:43:02.532519Z"
        },
        "trusted": true,
        "id": "NT2aV_jlnvMT"
      },
      "execution_count": null,
      "outputs": []
    },
    {
      "cell_type": "code",
      "source": [
        "def evaluate_model(y_true, y_pred, model_name):\n",
        "    print(\"Model: \", model_name)\n",
        "    print(\"Accuracy = {:0.2f}%\".format(score(y_true, y_pred)*100))\n",
        "    print(\"Mean Squared Error = {:0.2f}\\n\".format(mean_squared_error(y_true, y_pred, squared=False)))\n",
        "    return round(score(y_true, y_pred)*100, 2)"
      ],
      "metadata": {
        "execution": {
          "iopub.status.busy": "2023-08-28T16:43:02.535173Z",
          "iopub.execute_input": "2023-08-28T16:43:02.535497Z",
          "iopub.status.idle": "2023-08-28T16:43:02.548433Z",
          "shell.execute_reply.started": "2023-08-28T16:43:02.535469Z",
          "shell.execute_reply": "2023-08-28T16:43:02.547537Z"
        },
        "trusted": true,
        "id": "-fy8k-P3nvMU"
      },
      "execution_count": null,
      "outputs": []
    },
    {
      "cell_type": "code",
      "source": [
        "LR = LinearRegression()\n",
        "LR.fit(x_train, y_train)\n",
        "lr_preds = LR.predict(x_test)\n",
        "\n",
        "RFR = RandomForestRegressor(n_estimators=100, random_state=1)\n",
        "RFR.fit(x_train, y_train)\n",
        "rf_preds = RFR.predict(x_test)\n",
        "\n",
        "DTR = DecisionTreeRegressor(random_state=1)\n",
        "DTR.fit(x_train, y_train)\n",
        "dt_preds = DTR.predict(x_test)\n",
        "\n",
        "XGBR = XGBRegressor(n_estimators=100, random_state=1)\n",
        "XGBR.fit(x_train, y_train)\n",
        "xgb_preds = XGBR.predict(x_test)\n",
        "\n",
        "GBR = GradientBoostingRegressor(n_estimators=100, random_state=60)\n",
        "GBR.fit(x_train, y_train)\n",
        "gb_preds = GBR.predict(x_test)\n",
        "\n",
        "LGBMR = LGBMRegressor(n_estimators=100, random_state=60)\n",
        "LGBMR.fit(x_train, y_train)\n",
        "lgbm_preds = LGBMR.predict(x_test)\n",
        "\n",
        "CBR = CatBoostRegressor(n_estimators=100, random_state=1, verbose=False)\n",
        "CBR.fit(x_train, y_train)\n",
        "catboost_preds = CBR.predict(x_test)\n",
        "\n",
        "KNR = KNeighborsRegressor(n_neighbors=5)\n",
        "KNR.fit(x_train, y_train)\n",
        "knn_preds = KNR.predict(x_test)"
      ],
      "metadata": {
        "execution": {
          "iopub.status.busy": "2023-08-28T16:43:02.550082Z",
          "iopub.execute_input": "2023-08-28T16:43:02.550477Z",
          "iopub.status.idle": "2023-08-28T16:43:07.073081Z",
          "shell.execute_reply.started": "2023-08-28T16:43:02.550446Z",
          "shell.execute_reply": "2023-08-28T16:43:07.071578Z"
        },
        "trusted": true,
        "id": "_ZPo5g2qnvMU"
      },
      "execution_count": null,
      "outputs": []
    },
    {
      "cell_type": "code",
      "source": [
        "LRScore = evaluate_model(y_test, lr_preds, \"LINEAR REGRESSION\")\n",
        "RFScore = evaluate_model(y_test, rf_preds, \"RANDOM FOREST\")\n",
        "DTScore = evaluate_model(y_test, dt_preds, \"DECEISION TREE\")\n",
        "XGBScore = evaluate_model(y_test, xgb_preds, \"EXTENDED GRADIENT BOOSTING\")\n",
        "GBScore = evaluate_model(y_test, gb_preds, \"GRADIENT BOOSTING\")\n",
        "LGBScore = evaluate_model(y_test, lgbm_preds, \"LIGHT GRADIENT BOOSTING\")\n",
        "CBRScore = evaluate_model(y_test, catboost_preds, \"CAT BOOST\")\n",
        "KNNScore = evaluate_model(y_test, knn_preds, \"K NEAREST NEIGHBORS\")"
      ],
      "metadata": {
        "execution": {
          "iopub.status.busy": "2023-08-28T16:43:07.074945Z",
          "iopub.execute_input": "2023-08-28T16:43:07.075679Z",
          "iopub.status.idle": "2023-08-28T16:43:07.096001Z",
          "shell.execute_reply.started": "2023-08-28T16:43:07.075643Z",
          "shell.execute_reply": "2023-08-28T16:43:07.094674Z"
        },
        "trusted": true,
        "id": "KGwdwMFLnvMU"
      },
      "execution_count": null,
      "outputs": []
    },
    {
      "cell_type": "code",
      "source": [
        "models = pd.DataFrame(\n",
        "    {\n",
        "        \"MODELS\": [\"Linear Regression\", \"Random Forest\", \"Decision Tree\", \"Gradient Boosting\", \"Extended Gradient Boosting\", \"Light Gradient Boosting\", \"Cat Boosting\", \"K Nearest Neighbors\"],\n",
        "        \"SCORES\": [LRScore, RFScore, DTScore, GBScore, XGBScore, LGBScore, CBRScore, KNNScore]\n",
        "    }\n",
        ")\n",
        "models.sort_values(by='SCORES', ascending=False)"
      ],
      "metadata": {
        "execution": {
          "iopub.status.busy": "2023-08-28T16:43:07.09738Z",
          "iopub.execute_input": "2023-08-28T16:43:07.097958Z",
          "iopub.status.idle": "2023-08-28T16:43:07.120886Z",
          "shell.execute_reply.started": "2023-08-28T16:43:07.097922Z",
          "shell.execute_reply": "2023-08-28T16:43:07.118923Z"
        },
        "trusted": true,
        "id": "Y9qPS4k2nvMU"
      },
      "execution_count": null,
      "outputs": []
    },
    {
      "cell_type": "code",
      "source": [],
      "metadata": {
        "id": "Gag17XEinvMV"
      },
      "execution_count": null,
      "outputs": []
    }
  ]
}